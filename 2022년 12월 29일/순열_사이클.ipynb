{
  "nbformat": 4,
  "nbformat_minor": 0,
  "metadata": {
    "colab": {
      "provenance": []
    },
    "kernelspec": {
      "name": "python3",
      "display_name": "Python 3"
    },
    "language_info": {
      "name": "python"
    }
  },
  "cells": [
    {
      "cell_type": "markdown",
      "source": [
        "#1트"
      ],
      "metadata": {
        "id": "nSfuVChDHz2D"
      }
    },
    {
      "cell_type": "code",
      "execution_count": null,
      "metadata": {
        "id": "lvw87ogkHljh"
      },
      "outputs": [],
      "source": [
        "k = 8"
      ]
    },
    {
      "cell_type": "code",
      "source": [
        "list_A = []\n",
        "\n",
        "for i in range(1,k+1):\n",
        "  list_A.append(i)"
      ],
      "metadata": {
        "id": "9kCAGbS2H51R"
      },
      "execution_count": null,
      "outputs": []
    },
    {
      "cell_type": "code",
      "source": [
        "list_A"
      ],
      "metadata": {
        "colab": {
          "base_uri": "https://localhost:8080/"
        },
        "id": "yfDgAjJFIEfp",
        "outputId": "c6d46586-2bfa-4ba9-9528-c24be90f99df"
      },
      "execution_count": null,
      "outputs": [
        {
          "output_type": "execute_result",
          "data": {
            "text/plain": [
              "[1, 2, 3, 4, 5, 6, 7, 8]"
            ]
          },
          "metadata": {},
          "execution_count": 7
        }
      ]
    },
    {
      "cell_type": "code",
      "source": [
        "list_B = [3,2,7,8,1,4,5,6]"
      ],
      "metadata": {
        "id": "e0KqahR4IHRK"
      },
      "execution_count": null,
      "outputs": []
    },
    {
      "cell_type": "code",
      "source": [
        "final = []"
      ],
      "metadata": {
        "id": "9iECs55IISRY"
      },
      "execution_count": null,
      "outputs": []
    },
    {
      "cell_type": "code",
      "source": [
        "i = 0"
      ],
      "metadata": {
        "id": "YqyWQ-5NIdvp"
      },
      "execution_count": null,
      "outputs": []
    },
    {
      "cell_type": "code",
      "source": [
        "while True:\n",
        "  if i == k:\n",
        "    break\n",
        "  value = [list_A[i],list_B[i]]\n",
        "  if value[0] not in final and value[1] not in final:\n",
        "    final.append(value)\n",
        "    i = i + 1\n",
        "  else:\n",
        "    for i in final:\n",
        "      if value[0] in i or value[1] in i:\n",
        "        i.append(value[0])\n",
        "        i.append(value[1])\n",
        "        i = i + 1\n",
        "        break\n",
        "      "
      ],
      "metadata": {
        "id": "IBkm3HBJIUmO"
      },
      "execution_count": null,
      "outputs": []
    },
    {
      "cell_type": "markdown",
      "source": [
        "\n",
        "\n",
        "```\n",
        "  if value[0] not in final and value[1] not in final\n",
        "```\n",
        "\n",
        "이부분에서 3,7의 경우를 못걸러냄\n",
        "\n"
      ],
      "metadata": {
        "id": "zBIuw-avLtfH"
      }
    },
    {
      "cell_type": "markdown",
      "source": [
        "#2트\n",
        "\n",
        "이중리스트로 일일이 만드는게 아니라 cnt자체에 집중한다면? 가능 할지도?"
      ],
      "metadata": {
        "id": "0qJpENi-Lzk2"
      }
    },
    {
      "cell_type": "code",
      "source": [
        "k = 8"
      ],
      "metadata": {
        "id": "FRdP2r9qLzAD"
      },
      "execution_count": null,
      "outputs": []
    },
    {
      "cell_type": "code",
      "source": [
        "list_A = []\n",
        "\n",
        "for i in range(1,k+1):\n",
        "  list_A.append(i)"
      ],
      "metadata": {
        "id": "Pks5xXlHOvD4"
      },
      "execution_count": null,
      "outputs": []
    },
    {
      "cell_type": "code",
      "source": [
        "list_A"
      ],
      "metadata": {
        "colab": {
          "base_uri": "https://localhost:8080/"
        },
        "id": "VB358TeAOyFn",
        "outputId": "0f2f7e47-67a1-4c49-c83e-51c30d067e36"
      },
      "execution_count": null,
      "outputs": [
        {
          "output_type": "execute_result",
          "data": {
            "text/plain": [
              "[1, 2, 3, 4, 5, 6, 7, 8]"
            ]
          },
          "metadata": {},
          "execution_count": 13
        }
      ]
    },
    {
      "cell_type": "code",
      "source": [
        "list_B = [3,2,7,8,1,4,5,6]"
      ],
      "metadata": {
        "id": "0kTuebMXOzxM"
      },
      "execution_count": null,
      "outputs": []
    },
    {
      "cell_type": "code",
      "source": [
        "final = []"
      ],
      "metadata": {
        "id": "DNPa0QLXO1UF"
      },
      "execution_count": null,
      "outputs": []
    },
    {
      "cell_type": "code",
      "source": [
        "cnt = 0"
      ],
      "metadata": {
        "id": "kf1fF301O4mN"
      },
      "execution_count": null,
      "outputs": []
    },
    {
      "cell_type": "code",
      "source": [
        "i = 0"
      ],
      "metadata": {
        "id": "g6n0vz9mO_eY"
      },
      "execution_count": null,
      "outputs": []
    },
    {
      "cell_type": "code",
      "source": [
        "while True:\n",
        "  if list_A[i] == list_B[i]:\n",
        "    cnt = cnt + 1\n",
        "    final.append(list_A[i])\n",
        "    i = i + 1\n",
        "    \n",
        "  if list_A[i] not in final and list_B[i] not in final:\n",
        "    cnt = cnt + 1\n",
        "    final.append(list_A[i])\n",
        "    final.append(list_B[i])\n",
        "    i = i + 1\n",
        "  if list_A[i] in final:\n",
        "    final.append(list_B[i])\n",
        "    i = i + 1\n",
        "  if list_B[i] in final:\n",
        "    final.append(list_A[i])\n",
        "    i = i + 1\n"
      ],
      "metadata": {
        "id": "-w8kuDjoO5dZ"
      },
      "execution_count": null,
      "outputs": []
    },
    {
      "cell_type": "code",
      "source": [
        "n = int(input())\n",
        "list_A = []\n",
        "i = 0\n",
        "cnt = 0\n",
        "final = []\n",
        "for i in range(n):\n",
        "  k = int(input())\n",
        "\n",
        "  for i in range(1,k+1):\n",
        "    list_A.append(i)\n",
        "\n",
        "    list_B = input().split()\n",
        "\n",
        "    list_B = list(map(int,list_B))\n",
        "\n"
      ],
      "metadata": {
        "id": "cosjm9YRVIug"
      },
      "execution_count": null,
      "outputs": []
    },
    {
      "cell_type": "code",
      "source": [
        "k = 8\n",
        "\n",
        "list_A = []\n",
        "\n",
        "for i in range(1,k+1):\n",
        "  list_A.append(i)\n",
        "  \n",
        "  \n",
        "list_B = [3,2,7,8,1,4,5,6]\n",
        "\n",
        "final = []\n",
        "\n",
        "i = 0\n",
        "\n",
        "cnt = 0\n",
        "while True:\n",
        "  if i == k:\n",
        "    break\n",
        "  if list_A[i] == list_B[i]:\n",
        "    cnt = cnt + 1\n",
        "    final.append(list_A[i])\n",
        "    i = i + 1\n",
        "    \n",
        "  if list_A[i] not in final and list_B[i] not in final:\n",
        "    cnt = cnt + 1\n",
        "    final.append(list_A[i])\n",
        "    final.append(list_B[i])\n",
        "    i = i + 1\n",
        "  if list_A[i] in final:\n",
        "    final.append(list_B[i])\n",
        "    i = i + 1\n",
        "  if list_B[i] in final:\n",
        "    final.append(list_A[i])\n",
        "    i = i + 1\n",
        "print(cnt)"
      ],
      "metadata": {
        "colab": {
          "base_uri": "https://localhost:8080/"
        },
        "id": "i5Qn_aaNQksj",
        "outputId": "971cf6ec-d710-4bc6-ae2b-8537d9ce68b4"
      },
      "execution_count": null,
      "outputs": [
        {
          "output_type": "stream",
          "name": "stdout",
          "text": [
            "3\n"
          ]
        }
      ]
    },
    {
      "cell_type": "code",
      "source": [
        "n = int(input())\n",
        "list_A = []\n",
        "i = 0\n",
        "cnt = 0\n",
        "final = []\n",
        "list_value = []\n",
        "for i in range(n):\n",
        "  k = int(input())\n",
        "  list_B = input().split()\n",
        "  list_B = list(map(int,list_B))\n",
        "  for j in range(1,k+1):\n",
        "    list_A.append(j)\n",
        "  while True:\n",
        "    if i == k:\n",
        "      break\n",
        "    if list_A[i] == list_B[i]:\n",
        "      cnt = cnt + 1\n",
        "      final.append(list_A[i])\n",
        "      i = i + 1\n",
        "    \n",
        "    if list_A[i] not in final and list_B[i] not in final:\n",
        "      cnt = cnt + 1\n",
        "      final.append(list_A[i])\n",
        "      final.append(list_B[i])\n",
        "      i = i + 1\n",
        "    if list_A[i] in final:\n",
        "      final.append(list_B[i])\n",
        "      i = i + 1\n",
        "    if list_B[i] in final:\n",
        "      final.append(list_A[i])\n",
        "      i = i + 1\n",
        "  list_A.clear()\n",
        "  list_B.clear()\n",
        "  final.clear()\n",
        "  list_value.append(cnt)\n",
        "  cnt = 0\n",
        "\n",
        "for i in list_value:\n",
        "  print(i)"
      ],
      "metadata": {
        "colab": {
          "base_uri": "https://localhost:8080/"
        },
        "id": "Z3D3AP6aQnHF",
        "outputId": "f6ce659c-ab5a-4e8e-db64-47b75faf9dce"
      },
      "execution_count": null,
      "outputs": [
        {
          "output_type": "stream",
          "name": "stdout",
          "text": [
            "2\n",
            "8\n",
            "3 2 7 8 1 4 5 6\n",
            "10\n",
            "2 1 3 4 5 6 7 9 10 8\n",
            "3\n",
            "7\n"
          ]
        }
      ]
    },
    {
      "cell_type": "code",
      "source": [
        "fianl_value"
      ],
      "metadata": {
        "colab": {
          "base_uri": "https://localhost:8080/"
        },
        "id": "KjmouLHFUdKy",
        "outputId": "00f8bbc2-4cc6-42d1-e966-761ba482d064"
      },
      "execution_count": null,
      "outputs": [
        {
          "output_type": "execute_result",
          "data": {
            "text/plain": [
              "[0, 0]"
            ]
          },
          "metadata": {},
          "execution_count": 24
        }
      ]
    },
    {
      "cell_type": "markdown",
      "source": [
        "왜 런타임 에러가 나는거지?"
      ],
      "metadata": {
        "id": "mKV9uqGCYGuF"
      }
    },
    {
      "cell_type": "code",
      "source": [],
      "metadata": {
        "id": "nd0XsOPYUtJj"
      },
      "execution_count": null,
      "outputs": []
    }
  ]
}